{
 "cells": [
  {
   "cell_type": "code",
   "execution_count": 27,
   "id": "4d8a836b-5935-4102-80d2-7f3c58ba9540",
   "metadata": {},
   "outputs": [
    {
     "name": "stdout",
     "output_type": "stream",
     "text": [
      "Topic #0: überraschung lanciert genutzt generativer generative genau gekommen gegründeten geführt gefunden gab führung führte fähigkeit funktionieren freitagnachmittag freitagmorgen francisco figuren etwa erzielen ersten erklärte erfreut erfahrung gesicht gespräche getroffen investoren künstlichen kunden konferenz überraschend knall katapultierte jährlichen jährige jahres jahr investiert gpt intelligenz hält hoffe heutigen heisst grundlage grosser grossen gremium\n",
      "Topic #1: überraschung lanciert genutzt generativer generative genau gekommen gegründeten geführt gefunden gab führung führte fähigkeit funktionieren freitagnachmittag freitagmorgen francisco figuren etwa erzielen ersten erklärte erfreut erfahrung gesicht gespräche getroffen investoren künstlichen kunden konferenz überraschend knall katapultierte jährlichen jährige jahres jahr investiert gpt intelligenz hält hoffe heutigen heisst grundlage grosser grossen gremium\n",
      "Topic #2: ai open altman ki unternehmen partnerschaft dollar microsoft sei startup milliarden produkte mira laut einfluss november schrieb inzwischen fast ceo tech mitgründer wurde bloomberg menschen mehr geliebt sam beitrag verwaltungsrat langfristige abgang welt erzielen figuren grundlage gespräche getroffen etwa gpt erklärte ersten freitagmorgen heisst heutigen erfreut erfahrung entwicklerkonferenz francisco freitagnachmittag\n"
     ]
    }
   ],
   "source": [
    "from sklearn.decomposition import LatentDirichletAllocation\n",
    "from sklearn.feature_extraction.text import CountVectorizer\n",
    "import numpy as np\n",
    "\n",
    "# Der Text, der analysiert werden soll\n",
    "text = [\n",
    "    \"\"\"\n",
    "    Die Tech-Branche wurde mit einem Knall ins Wochenende entlassen. Sam Altman, Mitgründer und CEO von Open AI sowie eine der prominentesten Figuren in der Welt der künstlichen Intelligenz (KI), muss seinen Posten überraschend räumen. Das gab Open AI am Freitagnachmittag in einem Blog-Beitrag bekannt.\n",
    "\n",
    "\n",
    "Der Verwaltungsrat von Open AI sei nach einem Überprüfungsprozess zu dem Schluss gekommen, dass Altman in seiner Kommunikation nicht durchgängig offen gewesen sei. Das habe es dem Gremium verunmöglicht, seiner Verantwortung nachzukommen. «Der Verwaltungsrat hat kein Vertrauen mehr in seine Fähigkeit, Open AI weiterhin zu leiten», teilte das Startup in ungewöhnlich scharfen Worten mit.\n",
    "\n",
    "Altman hat der KI zum Durchbruch verholfen\n",
    "\n",
    "In einem Beitrag auf X (vormals Twitter) schrieb Altman: «Ich habe meine Zeit bei Open AI geliebt.» Es sei für ihn persönlich und, wie er hoffe, auch für die Welt eine transformative Erfahrung gewesen. Vor allem aber habe er es geliebt, mit so talentierten Menschen zu arbeiten. «Ich werde später mehr darüber sagen, wie es weitergeht», sagte er weiter.\n",
    "\n",
    "Mira Murati, die bisherige Technologiechefin von Open AI, übernimmt ab sofort vorübergehend als CEO, bis eine langfristige Nachfolge gefunden worden ist. Greg Brockman, ein weiterer Mitgründer und Vorsitzender des Verwaltungsrates von Open AI, tritt ebenfalls zurück. Die Entscheidung habe er «auf der Grundlage der heutigen Nachricht» getroffen, wie er auf X schrieb.\n",
    "\n",
    "Der 38-jährige Sam Altman wurde im vergangenen Jahr zum Gesicht des KI-Booms. Ende November 2022 lancierte Open AI unter seiner Führung den auf generativer KI basierenden Chatbot Chat-GPT und katapultierte die Technologie in die breite Öffentlichkeit. Auch der Bildgenerator Dall-E erfreut sich sehr grosser Beliebtheit. Inzwischen haben fast alle grossen Tech-Unternehmen reagiert und eigene KI-Angebote lanciert, die ähnlich funktionieren.\n",
    "\n",
    "\n",
    "\n",
    "Altman machte aus dem 2015 gegründeten Startup ein mit mehreren Milliarden Dollar bewertetes Unternehmen, dessen Produkte laut eigenen Angaben von monatlich 100 Millionen Menschen genutzt werden. Laut der Nachrichtenagentur Bloomberg war Open AI auf dem Weg, einen jährlichen Umsatz von 1 Milliarde Dollar zu erzielen. Das Unternehmen führte kürzlich Gespräche über den Verkauf von Mitarbeiteraktien an Investoren zu einer Bewertung von 86 Milliarden Dollar, dreimal so viel wie noch Anfang des Jahres.\n",
    "\n",
    "Keinen Einfluss auf Partnerschaft mit Microsoft\n",
    "\n",
    "Microsoft, das 13 Milliarden Dollar in Open AI investiert hat und 49 Prozent am Startup hält, erklärte, dass der Abgang von Altman keinen Einfluss auf die Partnerschaft zwischen den beiden Unternehmen habe. «Wir haben eine langfristige Partnerschaft mit Open AI, und Microsoft bleibt Mira und ihrem Team verpflichtet, während wir die nächste Ära der KI zu unseren Kunden bringen», heisst es in einer Mitteilung. Ausgehend von der Partnerschaft mit Open AI hat Microsoft generative KI inzwischen in fast all seine Produkte, etwa die Suchmaschine Bing oder die Office-Produkte, eingebaut.\n",
    "\n",
    "Der Abgang von Altman ist ein abrupter Bruch. Noch am 6. November stand er bei der ersten Entwicklerkonferenz von Open AI in San Francisco auf der Bühne, wo er eine Reihe von Neuerungen vorstellte. Am Donnerstag sprach er zudem an der Konferenz der Asiatisch-Pazifischen Wirtschaftskooperation (APEC) zum Thema KI.\n",
    "\n",
    "Was genau zur Entlassung von Altman geführt hat, ist bis jetzt unklar. Der Schritt war auch für die Mitarbeitenden von Open AI eine Überraschung. Er habe noch am Freitagmorgen E-Mails verschickt, berichtet Bloomberg mit Verweis auf Quellen aus dem Unternehmen.\n",
    "    \"\"\"\n",
    "]\n",
    "from nltk.corpus import stopwords\n",
    "from sklearn.feature_extraction.text import CountVectorizer\n",
    "\n",
    "\n",
    "german_stop_words = stopwords.words('german')\n",
    "\n",
    "vectorizer = CountVectorizer(stop_words = german_stop_words)\n",
    "\n",
    "# Vorbereitung des Textes für LDA\n",
    "\n",
    "X = vectorizer.fit_transform(text)\n",
    "\n",
    "# Erstellen des LDA-Modells\n",
    "lda = LatentDirichletAllocation(n_components=3, random_state=42)\n",
    "lda.fit(X)\n",
    "\n",
    "\n",
    "# Funktion zum Anzeigen der Top-Wörter für jedes Thema\n",
    "def print_top_words(model, feature_names, n_top_words):\n",
    "    for topic_idx, topic in enumerate(model.components_):\n",
    "        message = f\"Topic #{topic_idx}: \"\n",
    "        message += \" \".join([feature_names[i] for i in topic.argsort()[:-n_top_words - 1:-1]])\n",
    "        print(message)\n",
    "\n",
    "# Anzeigen der Top-Wörter für jedes Thema\n",
    "n_top_words = 50\n",
    "print_top_words(lda, vectorizer.get_feature_names_out(), n_top_words)\n"
   ]
  },
  {
   "cell_type": "code",
   "execution_count": 30,
   "id": "7a99d0f7-0a2a-4998-966d-95b3191f7364",
   "metadata": {},
   "outputs": [
    {
     "name": "stdout",
     "output_type": "stream",
     "text": [
      "['negative']\n"
     ]
    }
   ],
   "source": [
    "from germansentiment import SentimentModel\n",
    "\n",
    "model = SentimentModel()\n",
    "\n",
    "sentence = \"meine Schwester hätte lieber Erdbeeryoghurt als Tomatensauce\"\n",
    "\n",
    "sentiment = model.predict_sentiment([sentence])\n",
    "\n",
    "print(sentiment)"
   ]
  },
  {
   "cell_type": "code",
   "execution_count": 31,
   "id": "60bbe41f-91cf-4715-ae16-9dd5d744811d",
   "metadata": {},
   "outputs": [
    {
     "name": "stdout",
     "output_type": "stream",
     "text": [
      "ich: positive (1)\n",
      "finde: positive (1)\n",
      "den: positive (1)\n",
      "Unterricht: neutral (0)\n",
      "nicht: negative (-1)\n",
      "so: negative (-1)\n",
      "gut: positive (1)\n"
     ]
    }
   ],
   "source": [
    "from germansentiment import SentimentModel\n",
    "\n",
    "def analyze_sentiment_per_word(sentence, model):\n",
    "    words = sentence.split()\n",
    "    sentiments = {}\n",
    "    \n",
    "    for word in words:\n",
    "        word_sentiment = model.predict_sentiment([word])\n",
    "        # Beispiel für eine einfache Skalierung: -1 für negativ, 0 für neutral, +1 für positiv\n",
    "        sentiment_score = 0\n",
    "        if word_sentiment[0] == \"positive\":\n",
    "            sentiment_score = 1\n",
    "        elif word_sentiment[0] == \"negative\":\n",
    "            sentiment_score = -1\n",
    "        sentiments[word] = {\"quality\": word_sentiment[0], \"score\": sentiment_score}\n",
    "    \n",
    "    return sentiments\n",
    "\n",
    "# Erstellen des Sentiment-Modells\n",
    "model = SentimentModel()\n",
    "\n",
    "# Beispielsatz\n",
    "sentence = \"ich finde den Unterricht nicht so gut\"\n",
    "\n",
    "# Sentiment-Analyse für jedes Wort\n",
    "word_sentiments = analyze_sentiment_per_word(sentence, model)\n",
    "\n",
    "for word, sentiment in word_sentiments.items():\n",
    "    print(f\"{word}: {sentiment['quality']} ({sentiment['score']})\")"
   ]
  },
  {
   "cell_type": "code",
   "execution_count": null,
   "id": "203e6d25-4a49-4d42-9643-f8165aa86e5b",
   "metadata": {},
   "outputs": [],
   "source": []
  }
 ],
 "metadata": {
  "kernelspec": {
   "display_name": "Python 3 (ipykernel)",
   "language": "python",
   "name": "python3"
  },
  "language_info": {
   "codemirror_mode": {
    "name": "ipython",
    "version": 3
   },
   "file_extension": ".py",
   "mimetype": "text/x-python",
   "name": "python",
   "nbconvert_exporter": "python",
   "pygments_lexer": "ipython3",
   "version": "3.9.6"
  }
 },
 "nbformat": 4,
 "nbformat_minor": 5
}
